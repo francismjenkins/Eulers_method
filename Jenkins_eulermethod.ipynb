{
 "cells": [
  {
   "cell_type": "markdown",
   "metadata": {},
   "source": [
    "## Homework One - Numerical Methods (Professor Klimov, Fall 2018)\n",
    "* By: Frank Jenkins\n",
    "* Approximation using Euler's Method"
   ]
  },
  {
   "cell_type": "code",
   "execution_count": 3,
   "metadata": {},
   "outputs": [],
   "source": [
    "import os\n",
    "os.chdir(\"c://users/frank/\")"
   ]
  },
  {
   "cell_type": "markdown",
   "metadata": {},
   "source": [
    "## Calculation of exact solution\n",
    "* The original ODE (dV/dt = -kA) was modified\n",
    "* Volume was substituted with the formula for volume of a sphere [(4/3) x Pi x Radius^3]\n",
    "* Area was substituted with the formula for surface area of a sphere [4 x Pi x Radius^2]\n",
    "* This provides a way to relate volume and area (i.e. using radius)\n",
    "* Through algebraic simplification the formula was modified to: dr/dt = -k\n",
    "* The ODE was then solved using the separation of variables method\n",
    "* Separation of variables involves multiplying by dt to move it to the right side, then integrating both sides\n",
    "* The solution of the ODE is: r(t) = -kt + C\n",
    "* Since the initial conditions were r(t=0) = 3, C = 3\n"
   ]
  },
  {
   "cell_type": "markdown",
   "metadata": {},
   "source": [
    "## Exact solution"
   ]
  },
  {
   "cell_type": "code",
   "execution_count": 182,
   "metadata": {},
   "outputs": [
    {
     "name": "stdout",
     "output_type": "stream",
     "text": [
      "124.02510672119926\n",
      "122.99156416518927\n",
      "121.95802160917928\n",
      "120.92447905316928\n",
      "119.89093649715929\n",
      "118.8573939411493\n",
      "117.8238513851393\n",
      "116.79030882912932\n",
      "115.75676627311931\n",
      "114.72322371710932\n",
      "113.68968116109933\n",
      "112.65613860508934\n",
      "111.62259604907935\n",
      "110.58905349306934\n",
      "109.55551093705935\n",
      "108.52196838104936\n",
      "107.48842582503937\n",
      "106.45488326902938\n",
      "105.42134071301936\n",
      "104.38779815700937\n",
      "103.35425560099938\n",
      "102.3207130449894\n",
      "101.28717048897941\n",
      "100.2536279329694\n",
      "99.2200853769594\n",
      "98.18654282094941\n",
      "97.15300026493942\n",
      "96.11945770892943\n",
      "95.08591515291943\n",
      "94.05237259690944\n",
      "93.01883004089945\n",
      "91.98528748488945\n",
      "90.95174492887946\n",
      "89.91820237286946\n",
      "88.88465981685947\n",
      "87.85111726084948\n",
      "86.81757470483949\n",
      "85.7840321488295\n",
      "84.75048959281949\n",
      "83.7169470368095\n",
      "82.68340448079951\n"
     ]
    }
   ],
   "source": [
    "import math\n",
    "import matplotlib.pyplot as plt\n",
    "import numpy as np\n",
    "\n",
    "# To relate surface area and volume, volume & area was replaced with their formula's\n",
    "# The solution of the ODE: r(t) = -kt + 3\n",
    "\n",
    "# Variable assignments\n",
    "t = 0\n",
    "k = 0.1\n",
    "k1 = k*6**(2/3)*math.pi**(1/3)\n",
    "r = 0\n",
    "r1 = 3\n",
    "v1 = (4/3)*math.pi**3*r1\n",
    "a = []\n",
    "d = []\n",
    "\n",
    "while (t <= 10):\n",
    "    d.append(t) # Append time values to a list (for plotting)\n",
    "    r = -k*t + 3 # Exact solution of the differential equation dr/dt = -k\n",
    "    v = (4/3)*math.pi**3*r # Volume is calculated with the new radius for each step\n",
    "    t = t + 0.25 # Increment time by 0.25 min per iteration\n",
    "    a.append(v) # Append volume values to a list (for plotting)\n",
    "    print(v)    "
   ]
  },
  {
   "cell_type": "code",
   "execution_count": 174,
   "metadata": {},
   "outputs": [
    {
     "data": {
      "text/plain": [
       "[<matplotlib.lines.Line2D at 0x1c8abb9cbe0>]"
      ]
     },
     "execution_count": 174,
     "metadata": {},
     "output_type": "execute_result"
    },
    {
     "data": {
      "image/png": "[encoded data removed]",
      "text/plain": [
       "<Figure size 432x288 with 1 Axes>"
      ]
     },
     "metadata": {},
     "output_type": "display_data"
    }
   ],
   "source": [
    "plt.title(\"Exact Solution\")\n",
    "plt.xlabel(\"Time (minutes)\")\n",
    "plt.ylabel(\"Volume\")\n",
    "plt.plot(d, a)"
   ]
  },
  {
   "cell_type": "markdown",
   "metadata": {},
   "source": [
    "### Radius after 10 minutes of evaporation with a 0.25 min. step (exact solution)"
   ]
  },
  {
   "cell_type": "code",
   "execution_count": 175,
   "metadata": {},
   "outputs": [
    {
     "name": "stdout",
     "output_type": "stream",
     "text": [
      "2.0\n"
     ]
    }
   ],
   "source": [
    "print(r)"
   ]
  },
  {
   "cell_type": "markdown",
   "metadata": {},
   "source": [
    "## Approximation using Euler's Method"
   ]
  },
  {
   "cell_type": "code",
   "execution_count": 179,
   "metadata": {},
   "outputs": [
    {
     "name": "stdout",
     "output_type": "stream",
     "text": [
      "110.29339863605671\n",
      "107.53619293360303\n",
      "104.8253257227898\n",
      "102.16040430453532\n",
      "99.54103597975788\n",
      "96.9668280493758\n",
      "94.43738781430737\n",
      "91.95232257547092\n",
      "89.51123963378471\n",
      "87.11374629016706\n",
      "84.75944984553625\n",
      "82.44795760081062\n",
      "80.17887685690845\n",
      "77.95181491474804\n",
      "75.7663790752477\n",
      "73.62217663932572\n",
      "71.5188149079004\n",
      "69.45590118189006\n",
      "67.43304276221299\n",
      "65.4498469497875\n",
      "63.505921045531856\n",
      "61.600872350364405\n",
      "59.73430816520342\n",
      "57.90583579096722\n",
      "56.115062528574086\n",
      "54.36159567894234\n",
      "52.64504254299027\n",
      "50.96501042163618\n",
      "49.32110661579837\n",
      "47.71293842639515\n",
      "46.14011315434482\n",
      "44.60223810056566\n",
      "43.098920565975995\n",
      "41.629767851494115\n",
      "40.19438725803833\n",
      "38.79238608652694\n",
      "37.42337163787824\n",
      "36.08695121301053\n",
      "34.78273211284212\n",
      "33.5103216382913\n",
      "32.269327090276384\n"
     ]
    }
   ],
   "source": [
    "r3 = 3\n",
    "t3 = 0\n",
    "k3 = 0.1\n",
    "c = []\n",
    "e = []\n",
    "\n",
    "while (t3 <= 10): \n",
    "    e.append(t3) # Load time values into a list at each step\n",
    "    r3 = r3 + -k3*0.25  # Euler's algorithm e.g. new value = old value + slope*step\n",
    "    v3 = (4/3)*math.pi*r3**3 # The problem requires calculation of volume at each step\n",
    "    t3 = t3 + 0.25 # Incrementing time by 0.25 min per iteration \n",
    "    print(v3) # Print out volume at each step\n",
    "    c.append(v3) # Load volume into a list at each step "
   ]
  },
  {
   "cell_type": "code",
   "execution_count": 180,
   "metadata": {},
   "outputs": [
    {
     "data": {
      "text/plain": [
       "[<matplotlib.lines.Line2D at 0x1c8acc36cf8>]"
      ]
     },
     "execution_count": 180,
     "metadata": {},
     "output_type": "execute_result"
    },
    {
     "data": {
      "image/png": "[encoded data removed]",
      "text/plain": [
       "<Figure size 432x288 with 1 Axes>"
      ]
     },
     "metadata": {},
     "output_type": "display_data"
    }
   ],
   "source": [
    "plt.title(\"Eulers Method Approximation\")\n",
    "plt.xlabel(\"Time (minutes)\")\n",
    "plt.ylabel(\"Volume\")\n",
    "plt.plot(e, c)"
   ]
  },
  {
   "cell_type": "markdown",
   "metadata": {},
   "source": [
    "### Radius after 10 minutes of evaporation with a 0.25 min. step (Euler's Method approximation)"
   ]
  },
  {
   "cell_type": "code",
   "execution_count": 178,
   "metadata": {},
   "outputs": [
    {
     "name": "stdout",
     "output_type": "stream",
     "text": [
      "1.9750000000000036\n"
     ]
    }
   ],
   "source": [
    "print(r3)"
   ]
  }
 ],
 "metadata": {
  "kernelspec": {
   "display_name": "Python 3",
   "language": "python",
   "name": "python3"
  },
  "language_info": {
   "codemirror_mode": {
    "name": "ipython",
    "version": 3
   },
   "file_extension": ".py",
   "mimetype": "text/x-python",
   "name": "python",
   "nbconvert_exporter": "python",
   "pygments_lexer": "ipython3",
   "version": "3.6.5"
  }
 },
 "nbformat": 4,
 "nbformat_minor": 2
}
